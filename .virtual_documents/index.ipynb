











# Run this cell without changes
import pandas as pd
ames = pd.read_csv("ames.csv", index_col=0)
ames = ames.select_dtypes("number")
ames.dropna(inplace=True)
ames





# Run this cell without changes
import matplotlib.pyplot as plt
import numpy as np

y = ames["SalePrice"]
X = ames.drop("SalePrice", axis=1)

fig, axes = plt.subplots(nrows=6, ncols=6, figsize=(15,15), sharey=True)

for i, column in enumerate(X.columns):
    # Locate applicable axes
    row = i // 6
    col = i % 6
    ax = axes[row][col]
    
    # Plot feature vs. y and label axes
    ax.scatter(X[column], y, alpha=0.2)
    ax.set_xlabel(column)
    if col == 0:
        ax.set_ylabel("SalePrice")

fig.tight_layout()














# Your code here

import seaborn as sns
import matplotlib.pyplot as plt

# Features and target
features = ['LotFrontage', 'GrLivArea', 'YearRemodAdd']
target = 'SalePrice'

# Plotting
plt.figure(figsize=(18, 12))

for i, feature in enumerate(features):
    # Raw scatter plot
    plt.subplot(3, 2, 2 * i + 1)
    sns.scatterplot(x=ames[feature], y=ames[target])
    plt.title(f"{feature} vs SalePrice")
    plt.xlabel(feature)
    plt.ylabel("SalePrice")

    # Log-log scatter plot
    plt.subplot(3, 2, 2 * i + 2)
    # Applying log1p to avoid log(0) and handle missing values
    x_log = np.log1p(ames[feature])
    y_log = np.log1p(ames[target])
    sns.scatterplot(x=x_log, y=y_log)
    plt.title(f"log({feature}) vs log(SalePrice)")
    plt.xlabel(f"log({feature})")
    plt.ylabel("log(SalePrice)")

plt.tight_layout()
plt.show()








# Your code here - prepare data for modeling

# Dropping rows with missing values in selected columns
df_model = ames[['LotFrontage', 'GrLivArea', 'YearRemodAdd', 'SalePrice']].dropna()

# Shifting YearRemodAdd to make log transformation meaningful
df_model['YearRemodAdd_shifted'] = df_model['YearRemodAdd'] - 1900

# Applying log1p to features and target
X = pd.DataFrame({
    'log_LotFrontage': np.log1p(df_model['LotFrontage']),
    'log_GrLivArea': np.log1p(df_model['GrLivArea']),
    'log_YearRemodAdd': np.log1p(df_model['YearRemodAdd_shifted'])
})

y = np.log1p(df_model['SalePrice'])

# Checking the prepared data
X.head(), y.head()





# Your code here - build a model

import statsmodels.api as sm

# Adding constant to the features
X_const = sm.add_constant(X)

# Building and fit the OLS model
model = sm.OLS(y, X_const)
results = model.fit()

# Displaying the summary
results.summary()









